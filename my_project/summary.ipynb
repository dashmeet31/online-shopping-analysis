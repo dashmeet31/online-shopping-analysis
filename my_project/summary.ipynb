{
 "cells": [
  {
   "cell_type": "code",
   "execution_count": 5,
   "id": "5e47181d",
   "metadata": {},
   "outputs": [
    {
     "name": "stdout",
     "output_type": "stream",
     "text": [
      " Project Insights Summary:\n",
      "-------------------------------------------\n",
      " ~ Most purchased category: Books\n",
      " ~ City with highest sales: Bangalore\n",
      " ~ Most used payment mode: Debit Card\n",
      " ~ Gender distribution: Male 51.3%, Female 48.6%\n",
      " ~ Average age of customers: 39.0 years\n"
     ]
    }
   ],
   "source": [
    "import pandas as pd\n",
    "\n",
    "# Load data\n",
    "df = pd.read_csv(\"cleaned_online_shopping_data.csv\")\n",
    "\n",
    "# Top product category\n",
    "top_category = df['Product Category'].value_counts().idxmax()\n",
    "\n",
    "# City with highest revenue\n",
    "top_city = df.groupby('City')['Total Amount'].sum().idxmax()\n",
    "\n",
    "# Most common payment method\n",
    "top_payment = df['Payment mode'].value_counts().idxmax()\n",
    "\n",
    "# Gender distribution\n",
    "gender_dist = df['Gender'].value_counts(normalize=True) * 100\n",
    "\n",
    "# Age stats\n",
    "avg_age = df['Age'].mean()\n",
    "\n",
    "# Summary Print\n",
    "print(\" Project Insights Summary:\")\n",
    "print(\"-------------------------------------------\")\n",
    "print(f\" ~ Most purchased category: {top_category}\")\n",
    "print(f\" ~ City with highest sales: {top_city}\")\n",
    "print(f\" ~ Most used payment mode: {top_payment}\")\n",
    "print(f\" ~ Gender distribution: Male {gender_dist['Male']:.1f}%, Female {gender_dist['Female']:.1f}%\")\n",
    "print(f\" ~ Average age of customers: {avg_age:.1f} years\")\n"
   ]
  },
  {
   "cell_type": "code",
   "execution_count": null,
   "id": "6318a6e6",
   "metadata": {},
   "outputs": [],
   "source": []
  }
 ],
 "metadata": {
  "kernelspec": {
   "display_name": "Python 3 (ipykernel)",
   "language": "python",
   "name": "python3"
  },
  "language_info": {
   "codemirror_mode": {
    "name": "ipython",
    "version": 3
   },
   "file_extension": ".py",
   "mimetype": "text/x-python",
   "name": "python",
   "nbconvert_exporter": "python",
   "pygments_lexer": "ipython3",
   "version": "3.11.4"
  }
 },
 "nbformat": 4,
 "nbformat_minor": 5
}
